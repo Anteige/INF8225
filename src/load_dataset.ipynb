{
 "cells": [
  {
   "cell_type": "code",
   "execution_count": 25,
   "metadata": {},
   "outputs": [
    {
     "ename": "ModuleNotFoundError",
     "evalue": "No module named 'cv2'",
     "output_type": "error",
     "traceback": [
      "\u001b[1;31m---------------------------------------------------------------------------\u001b[0m",
      "\u001b[1;31mModuleNotFoundError\u001b[0m                       Traceback (most recent call last)",
      "\u001b[1;32m<ipython-input-25-5be39c72305a>\u001b[0m in \u001b[0;36m<module>\u001b[1;34m\u001b[0m\n\u001b[0;32m      3\u001b[0m \u001b[1;32mimport\u001b[0m \u001b[0mmatplotlib\u001b[0m\u001b[1;33m.\u001b[0m\u001b[0mpyplot\u001b[0m \u001b[1;32mas\u001b[0m \u001b[0mplt\u001b[0m\u001b[1;33m\u001b[0m\u001b[1;33m\u001b[0m\u001b[0m\n\u001b[0;32m      4\u001b[0m \u001b[1;32mimport\u001b[0m \u001b[0mos\u001b[0m\u001b[1;33m\u001b[0m\u001b[1;33m\u001b[0m\u001b[0m\n\u001b[1;32m----> 5\u001b[1;33m \u001b[1;32mimport\u001b[0m \u001b[0mcv2\u001b[0m\u001b[1;33m\u001b[0m\u001b[1;33m\u001b[0m\u001b[0m\n\u001b[0m",
      "\u001b[1;31mModuleNotFoundError\u001b[0m: No module named 'cv2'"
     ]
    }
   ],
   "source": [
    "import numpy as np\n",
    "import skimage.color as color\n",
    "import matplotlib.pyplot as plt\n",
    "import os\n",
    "import cv2"
   ]
  },
  {
   "cell_type": "code",
   "execution_count": null,
   "metadata": {},
   "outputs": [],
   "source": [
    "train_path = \"./dataset/train\" \n",
    "train_path = \"./dataset/test\" \n",
    "\n",
    "def loadDataset(path):\n",
    "    datasetX = []\n",
    "    datasetY = []\n",
    "    i = 0\n",
    "    print(\"debut chargement image\")\n",
    "    #ajouter un for folder\n",
    "    for folder in os.walk(path)\n",
    "        for image in os.listdir(folder.name):\n",
    "            if (image.endswith('.jpg')):\n",
    "                #(_, X, Y) = ouvrirImage(\"dataset/\" + image, affichage=False)\n",
    "                X = cv2.imread(path + folder.name + image)[...,::-1]\n",
    "                datasetX.append(X)\n",
    "                #datasetY.append(Y/128)\n",
    "                datasetY.append(folder.name)\n",
    "                print(\"image \" + str(i) + \"bien ajouté\")\n",
    "                if i == 100:\n",
    "                    print(\"fin de la recuperation des images\")\n",
    "                    break\n",
    "                i += 1\n",
    "        # les composantes a et b sont entre -128 et 128\n",
    "        # comme notre modele retourne un truc entre -1 et 1 (avec tanh a la fin)\n",
    "        # il faut aussi diviser par 128 nos label pour bien calculer la perte\n",
    "\n",
    "    return (np.array(datasetX), np.array(datasetY))\n",
    "\n",
    "# def openImage(path, affichage = False):\n",
    "#     '''\n",
    "#     Ouvre une image \n",
    "#     img_rgb : Image originale\n",
    "#     img_gray : Image en niveau de gris\n",
    "#     colors : composantes a et b de l'image LAB\n",
    "#     Retourne (img_rgb, img_gray, colors)\n",
    "#     '''\n",
    "\n",
    "#     # Ouvre l'image en RGB et rescale\n",
    "#     img_rgb = cv2.imread(path)[...,::-1]\n",
    "#     #img_rgb = cv2.resize(img_rgb, (SIZE_IMAGE,SIZE_IMAGE), interpolation = cv2.INTER_AREA)\n",
    "#     # Converti en LAB\n",
    "#     img_lab = color.rgb2lab(img_rgb)\n",
    "#     # Grayscale part\n",
    "#     img_gray = color.rgb2gray(img_rgb)\n",
    "#     # Color part\n",
    "#     colors = img_lab[:,:,1:] \n",
    "    \n",
    "#     print(img_rgb)\n",
    "#     return (img_rgb, img_gray, colors)"
   ]
  },
  {
   "cell_type": "code",
   "execution_count": null,
   "metadata": {},
   "outputs": [],
   "source": []
  }
 ],
 "metadata": {
  "kernelspec": {
   "display_name": "Python 3",
   "language": "python",
   "name": "python3"
  },
  "language_info": {
   "codemirror_mode": {
    "name": "ipython",
    "version": 3
   },
   "file_extension": ".py",
   "mimetype": "text/x-python",
   "name": "python",
   "nbconvert_exporter": "python",
   "pygments_lexer": "ipython3",
   "version": "3.7.4"
  }
 },
 "nbformat": 4,
 "nbformat_minor": 2
}
