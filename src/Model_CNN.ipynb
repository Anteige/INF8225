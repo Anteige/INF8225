{
 "cells": [
  {
   "cell_type": "code",
   "execution_count": 1,
   "metadata": {},
   "outputs": [],
   "source": [
    "from utils import *\n",
    "from net import Net\n",
    "from googlenet import GoogLeNet\n",
    "from dogs_dataset import DogsDataset\n",
    "\n",
    "import torch\n",
    "from torch.utils.data import DataLoader\n",
    "from sklearn.preprocessing import LabelEncoder"
   ]
  },
  {
   "cell_type": "code",
   "execution_count": 2,
   "metadata": {},
   "outputs": [
    {
     "output_type": "stream",
     "name": "stdout",
     "text": "debut chargement image\ndebut chargement image\n"
    }
   ],
   "source": [
    "#Importation du dataset\n",
    "train_path = \"../dataset/train\" \n",
    "test_path = \"../dataset/test\" \n",
    "\n",
    "train_dataset_X, train_dataset_Y = load_dataset(train_path)\n",
    "test_dataset_X, test_dataset_Y = load_dataset(test_path)"
   ]
  },
  {
   "cell_type": "code",
   "execution_count": 4,
   "metadata": {},
   "outputs": [],
   "source": [
    "encoder = LabelEncoder()\n",
    "\n",
    "train_dataset_Y = encoder.fit_transform(train_dataset_Y)\n",
    "test_dataset_Y = encoder.fit_transform(test_dataset_Y)"
   ]
  },
  {
   "cell_type": "code",
   "execution_count": 5,
   "metadata": {},
   "outputs": [
    {
     "output_type": "stream",
     "name": "stdout",
     "text": "torch.Size([12000, 3, 224, 224])\ntorch.Size([12000])\ntorch.Size([8580, 3, 224, 224])\ntorch.Size([8580])\n"
    }
   ],
   "source": [
    "#Creation des dataloader de train et test\n",
    "dataset_train = DogsDataset(train_dataset_X, train_dataset_Y)\n",
    "dataset_test = DogsDataset(test_dataset_X, test_dataset_Y)\n",
    "\n",
    "train_loader = DataLoader(dataset=dataset_train,\n",
    "                          batch_size=50,\n",
    "                          shuffle=True,\n",
    "                          num_workers=0)\n",
    "\n",
    "test_loader = DataLoader(dataset=dataset_test,\n",
    "                          shuffle=False,\n",
    "                          batch_size=1,\n",
    "                          num_workers=0)"
   ]
  },
  {
   "cell_type": "code",
   "execution_count": 6,
   "metadata": {},
   "outputs": [
    {
     "output_type": "stream",
     "name": "stdout",
     "text": "Epoch :  1 \t loss : tensor(4.3183, device='cuda:0', grad_fn=<NllLossBackward>)\n"
    }
   ],
   "source": [
    "# Recuperation du type d'execution\n",
    "device = torch.device(\"cuda:0\" if torch.cuda.is_available() else \"cpu\")\n",
    "\n",
    "# Definition des hyperparametres\n",
    "n_epoch = 1\n",
    "lr = 0.0005\n",
    "weight_decay = 0.0005\n",
    "\n",
    "model = GoogLeNet()\n",
    "\n",
    "#Si on entraine sur gpu \n",
    "if device.type == 'cuda':\n",
    "    model.to(device)\n",
    "\n",
    "train_losses = train(n_epoch, model, train_loader, lr, weight_decay, device)    "
   ]
  },
  {
   "cell_type": "code",
   "execution_count": 15,
   "metadata": {},
   "outputs": [
    {
     "output_type": "execute_result",
     "data": {
      "text/plain": "'cuda'"
     },
     "metadata": {},
     "execution_count": 15
    }
   ],
   "source": [
    "# Pour sauvegarder le modele\n",
    "path = \"../models/googlenet_\" + str(n_epoch) + '_' + str(lr) + '_' + str(weight_decay) + '.pth'\n",
    "torch.save(model.state_dict(), path)"
   ]
  },
  {
   "cell_type": "code",
   "execution_count": 6,
   "metadata": {},
   "outputs": [
    {
     "output_type": "execute_result",
     "data": {
      "text/plain": "<All keys matched successfully>"
     },
     "metadata": {},
     "execution_count": 6
    }
   ],
   "source": [
    "# Pour charger une modele de type GoogLeNet\n",
    "model = GoogLeNet()\n",
    "path = '../models/googlenet_1000_l2.pth'\n",
    "model.load_state_dict(torch.load(path))"
   ]
  },
  {
   "cell_type": "code",
   "execution_count": 9,
   "metadata": {},
   "outputs": [],
   "source": [
    "# Si on test sur le gpu\n",
    "if device.type == 'cuda':\n",
    "    model.to(device)\n",
    "accuracy = test(model, test_loader, device )"
   ]
  }
 ],
 "metadata": {
  "language_info": {
   "codemirror_mode": {
    "name": "ipython",
    "version": 3
   },
   "file_extension": ".py",
   "mimetype": "text/x-python",
   "name": "python",
   "nbconvert_exporter": "python",
   "pygments_lexer": "ipython3",
   "version": "3.7.4-final"
  },
  "orig_nbformat": 2,
  "kernelspec": {
   "name": "python38164bitenvpytorchcondad7d459e6b0984ec7ac50d8be39a80fa5",
   "display_name": "Python 3.8.1 64-bit ('env_pytorch': conda)"
  }
 },
 "nbformat": 4,
 "nbformat_minor": 2
}